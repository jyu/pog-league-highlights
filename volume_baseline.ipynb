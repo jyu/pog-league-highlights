{
 "cells": [
  {
   "cell_type": "code",
   "execution_count": 12,
   "metadata": {
    "collapsed": false,
    "deletable": true,
    "editable": true
   },
   "outputs": [],
   "source": [
    "from pytube import YouTube\n",
    "from tqdm import tqdm\n",
    "import librosa\n",
    "import librosa.display\n",
    "import ffmpeg\n",
    "import numpy as np\n",
    "import moviepy\n",
    "from moviepy.video.io.ffmpeg_tools import ffmpeg_extract_subclip\n",
    "from moviepy.editor import VideoFileClip, concatenate_videoclips"
   ]
  },
  {
   "cell_type": "code",
   "execution_count": 5,
   "metadata": {
    "collapsed": false,
    "deletable": true,
    "editable": true
   },
   "outputs": [
    {
     "name": "stderr",
     "output_type": "stream",
     "text": [
      " 99%|█████████▉| 42590208/42854918 [00:14<00:00, 2931586.96it/s]"
     ]
    },
    {
     "data": {
      "text/plain": [
       "'./tmp_highlights.mp4'"
      ]
     },
     "execution_count": 5,
     "metadata": {},
     "output_type": "execute_result"
    },
    {
     "name": "stderr",
     "output_type": "stream",
     "text": [
      "\r",
      "100%|██████████| 42854918/42854918 [00:30<00:00, 2931586.96it/s]"
     ]
    }
   ],
   "source": [
    "# highlights\n",
    "yt = YouTube('https://www.youtube.com/watch?v=HF6wnXp3rsE')\n",
    "# game\n",
    "# yt = YouTube('https://www.youtube.com/watch?v=GlqyJDKV6eg')\n",
    "stream = yt.streams.filter().first()\n",
    "\n",
    "pbar = tqdm(total=stream.filesize)\n",
    "def progress_fn(self, chunk, *_):\n",
    "    pbar.update(len(chunk))\n",
    "yt.register_on_progress_callback(progress_fn)    \n",
    "\n",
    "stream.download(output_path=\".\", filename=\"tmp_highlights\") "
   ]
  },
  {
   "cell_type": "code",
   "execution_count": 7,
   "metadata": {
    "collapsed": false,
    "deletable": true,
    "editable": true
   },
   "outputs": [
    {
     "data": {
      "text/plain": [
       "(None, None)"
      ]
     },
     "execution_count": 7,
     "metadata": {},
     "output_type": "execute_result"
    }
   ],
   "source": [
    "ffmpeg.input(\"tmp.mp4\").audio.output(\"out.wav\").run()\n"
   ]
  },
  {
   "cell_type": "code",
   "execution_count": 4,
   "metadata": {
    "collapsed": false,
    "deletable": true,
    "editable": true
   },
   "outputs": [],
   "source": [
    "data, sampling_rate = librosa.load('out.wav')"
   ]
  },
  {
   "cell_type": "code",
   "execution_count": 13,
   "metadata": {
    "collapsed": false,
    "deletable": true,
    "editable": true
   },
   "outputs": [
    {
     "name": "stdout",
     "output_type": "stream",
     "text": [
      "total shape (87097500,)\n",
      "sampling rate 22050\n",
      "3951\n",
      "[3020 2978 3022 3885 3887 3283 3298 3026 3589 3660]\n",
      "[1581.0247, 1602.9133, 1609.6527, 1614.9598, 1616.0969, 1657.2307, 1685.9121, 1690.6027, 1744.8236, 1824.0743]\n",
      "Moviepy - Running:\n",
      ">>> \"+ \" \".join(cmd)\n",
      "Moviepy - Command successful\n",
      "Moviepy - Running:\n",
      ">>> \"+ \" \".join(cmd)\n",
      "Moviepy - Command successful\n",
      "Moviepy - Running:\n",
      ">>> \"+ \" \".join(cmd)\n",
      "Moviepy - Command successful\n",
      "Moviepy - Running:\n",
      ">>> \"+ \" \".join(cmd)\n",
      "Moviepy - Command successful\n",
      "Moviepy - Running:\n",
      ">>> \"+ \" \".join(cmd)\n",
      "Moviepy - Command successful\n",
      "Moviepy - Running:\n",
      ">>> \"+ \" \".join(cmd)\n",
      "Moviepy - Command successful\n",
      "Moviepy - Running:\n",
      ">>> \"+ \" \".join(cmd)\n",
      "Moviepy - Command successful\n",
      "Moviepy - Running:\n",
      ">>> \"+ \" \".join(cmd)\n",
      "Moviepy - Command successful\n",
      "Moviepy - Running:\n",
      ">>> \"+ \" \".join(cmd)\n",
      "Moviepy - Command successful\n",
      "Moviepy - Running:\n",
      ">>> \"+ \" \".join(cmd)\n",
      "Moviepy - Command successful\n"
     ]
    },
    {
     "name": "stderr",
     "output_type": "stream",
     "text": [
      "chunk:   2%|▏         | 50/2514 [00:00<00:05, 492.35it/s, now=None]"
     ]
    },
    {
     "name": "stdout",
     "output_type": "stream",
     "text": [
      "Moviepy - Building video highlights.mp4.\n",
      "MoviePy - Writing audio in highlightsTEMP_MPY_wvf_snd.mp3\n"
     ]
    },
    {
     "name": "stderr",
     "output_type": "stream",
     "text": [
      "t:   1%|          | 29/3416 [00:00<00:11, 289.83it/s, now=None]      "
     ]
    },
    {
     "name": "stdout",
     "output_type": "stream",
     "text": [
      "MoviePy - Done.\n",
      "Moviepy - Writing video highlights.mp4\n",
      "\n"
     ]
    },
    {
     "name": "stderr",
     "output_type": "stream",
     "text": [
      "                                                                 \r"
     ]
    },
    {
     "name": "stdout",
     "output_type": "stream",
     "text": [
      "Moviepy - Done !\n",
      "Moviepy - video ready highlights.mp4\n"
     ]
    }
   ],
   "source": [
    "print(\"total shape\", data.shape)\n",
    "print(\"sampling rate\", sampling_rate)\n",
    "\n",
    "# librosa.display.waveplot(data[0:22050 * 1000], sr=sampling_rate)\n",
    "\n",
    "data_size = data.shape[0]\n",
    "data_total_length = ((data_size // sampling_rate) + 1) * sampling_rate\n",
    "data = np.pad(data, pad_width=(0, data_total_length - data_size), mode='constant')\n",
    "\n",
    "data_chunks = np.split(data, data_total_length/sampling_rate)\n",
    "\n",
    "# print(data_chunks)\n",
    "print(len(data_chunks))\n",
    "\n",
    "data_sums = np.array(list(map(lambda x : np.sum(np.abs(x)), data_chunks)))\n",
    "\n",
    "n = 10\n",
    "top_n_idx = np.argsort(data_sums)[-n:]\n",
    "top_n_values = [data_sums[i] for i in top_n_idx]\n",
    "\n",
    "print(top_n_idx)\n",
    "print(top_n_values)\n",
    "\n",
    "# Create highlights\n",
    "highlight_len = 5\n",
    "top_n_idx = sorted(top_n_idx)\n",
    "clips = []\n",
    "for i in range(len(top_n_idx)):\n",
    "    time = top_n_idx[i]\n",
    "    clip_name = \"test\" + str(i) + \".mp4\"\n",
    "    ffmpeg_extract_subclip(\n",
    "        \"tmp.mp4\", \n",
    "        time - highlight_len, \n",
    "        time + highlight_len, \n",
    "        targetname=clip_name\n",
    "    )\n",
    "    clips.append(VideoFileClip(clip_name))\n",
    "\n",
    "final_clip = concatenate_videoclips(clips)\n",
    "final_clip.write_videofile(\"highlights.mp4\")"
   ]
  },
  {
   "cell_type": "code",
   "execution_count": null,
   "metadata": {
    "collapsed": true
   },
   "outputs": [],
   "source": []
  }
 ],
 "metadata": {
  "kernelspec": {
   "display_name": "Python 3",
   "language": "python",
   "name": "python3"
  },
  "language_info": {
   "codemirror_mode": {
    "name": "ipython",
    "version": 3
   },
   "file_extension": ".py",
   "mimetype": "text/x-python",
   "name": "python",
   "nbconvert_exporter": "python",
   "pygments_lexer": "ipython3",
   "version": "3.6.10"
  }
 },
 "nbformat": 4,
 "nbformat_minor": 2
}
